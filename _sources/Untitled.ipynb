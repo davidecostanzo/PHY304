{
 "cells": [
  {
   "cell_type": "markdown",
   "id": "ac742580-b9ce-4c3c-991a-4db8763caeeb",
   "metadata": {},
   "source": [
    "# Welcome\n",
    "\n",
    "This is an example\n",
    "\n",
    "$\\alpha$ \n"
   ]
  },
  {
   "cell_type": "markdown",
   "id": "4017234e-b90c-47fb-aff7-ddd167daf5a9",
   "metadata": {},
   "source": []
  },
  {
   "cell_type": "code",
   "execution_count": null,
   "id": "886ee42e-5ec2-4568-940e-8e40950e87a9",
   "metadata": {},
   "outputs": [],
   "source": []
  },
  {
   "cell_type": "code",
   "execution_count": null,
   "id": "c286cf61-2679-44f2-942e-6213793d8f47",
   "metadata": {},
   "outputs": [],
   "source": []
  }
 ],
 "metadata": {
  "kernelspec": {
   "display_name": "Python 3 (ipykernel)",
   "language": "python",
   "name": "python3"
  },
  "language_info": {
   "codemirror_mode": {
    "name": "ipython",
    "version": 3
   },
   "file_extension": ".py",
   "mimetype": "text/x-python",
   "name": "python",
   "nbconvert_exporter": "python",
   "pygments_lexer": "ipython3",
   "version": "3.12.4"
  }
 },
 "nbformat": 4,
 "nbformat_minor": 5
}
